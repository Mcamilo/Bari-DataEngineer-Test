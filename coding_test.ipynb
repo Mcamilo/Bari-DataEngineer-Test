{
 "cells": [
  {
   "cell_type": "markdown",
   "id": "63264123",
   "metadata": {},
   "source": [
    "## Data Engineering - Exercise\n",
    "\n",
    "Suppose you have a s3 bucket \"raw\" where data about multiple music albums are stored in directories based on their release date. The data is in the form of json files and are made of nested objects of the following structure:\n",
    "\n",
    "```json\n",
    "{\n",
    "    \"album_type\": \"string\",\n",
    "    \"id\": \"string\",\n",
    "    \"name\": \"string\",\n",
    "    \"release_date\": \"date\",\n",
    "    \"songs\": [{\n",
    "      \"cover_image\":{\n",
    "        \"height\": \"int\",\n",
    "        \"id\":\"string\", \n",
    "        \"url\": \"string\",\n",
    "        \"width\": \"int\"\n",
    "      },  \n",
    "      \"duration\":\"float\",\n",
    "      \"genre\":\"string\",\n",
    "      \"name\":\"string\",\n",
    "      \"stats\":{\n",
    "        \"downloads\":\"int\", \n",
    "        \"id\":\"string\", \n",
    "        \"popularity\": \"int\",\n",
    "        \"revenue\":\"float\"\n",
    "      }\n",
    "    }],\n",
    "    \"total_tracks\": \"int\",\n",
    "    \"type\": \"string\"\n",
    "}\n",
    "````\n",
    "#### Requirements: \n",
    "  - **E**xtract every album file.\n",
    "  - **T**ransform the data in order to normalize them.\n",
    "  - **L**oad the resulting transformed data to a \"staging\" bucket.\n"
   ]
  },
  {
   "cell_type": "code",
   "execution_count": 19,
   "id": "8f904f67",
   "metadata": {},
   "outputs": [],
   "source": [
    "# Creates a mock dataset\n",
    "import mock\n",
    "mock.create_raw(10)"
   ]
  },
  {
   "cell_type": "markdown",
   "id": "f3a64b6d",
   "metadata": {},
   "source": [
    "> List your steps to solve the problem\n",
    "### TODO: \n",
    "    - Step 1?\n",
    "    - Step 2?\n",
    "    - ..."
   ]
  },
  {
   "cell_type": "code",
   "execution_count": null,
   "id": "e8d759fc",
   "metadata": {},
   "outputs": [],
   "source": [
    "# Extract"
   ]
  },
  {
   "cell_type": "code",
   "execution_count": null,
   "id": "afc35e25",
   "metadata": {},
   "outputs": [],
   "source": [
    "# Transform"
   ]
  },
  {
   "cell_type": "code",
   "execution_count": null,
   "id": "5a97c157",
   "metadata": {},
   "outputs": [],
   "source": [
    "# Load"
   ]
  }
 ],
 "metadata": {
  "kernelspec": {
   "display_name": "Python 3 (ipykernel)",
   "language": "python",
   "name": "python3"
  },
  "language_info": {
   "codemirror_mode": {
    "name": "ipython",
    "version": 3
   },
   "file_extension": ".py",
   "mimetype": "text/x-python",
   "name": "python",
   "nbconvert_exporter": "python",
   "pygments_lexer": "ipython3",
   "version": "3.8.0"
  },
  "vscode": {
   "interpreter": {
    "hash": "cee8a72f1ebd72cdd71994fc0f463ec030162ed33444d58b64eaa941e3a65a51"
   }
  }
 },
 "nbformat": 4,
 "nbformat_minor": 5
}
